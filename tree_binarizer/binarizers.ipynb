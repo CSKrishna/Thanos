{
 "cells": [
  {
   "cell_type": "code",
   "execution_count": 16,
   "metadata": {
    "collapsed": true
   },
   "outputs": [],
   "source": [
    "def left_stripper(st, char = '('):\n",
    "    li = []      \n",
    "    i = 0   \n",
    "    if st[i] == char:\n",
    "        while st[i] == char:\n",
    "            li .append(st[i])        \n",
    "            i += 1\n",
    "    else:\n",
    "        li.append(st)   \n",
    "    return li"
   ]
  },
  {
   "cell_type": "code",
   "execution_count": 17,
   "metadata": {
    "collapsed": true
   },
   "outputs": [],
   "source": [
    "def right_stripper(st, char = ')'):\n",
    "    li = []  \n",
    "    i = len(st) - 1    \n",
    "    while st[i] == char:\n",
    "        li .append(st[i])        \n",
    "        i -= 1\n",
    "    li.insert(0,st[:i+1])\n",
    "    return li"
   ]
  },
  {
   "cell_type": "code",
   "execution_count": 18,
   "metadata": {
    "collapsed": true
   },
   "outputs": [],
   "source": [
    "def sentence_parser(st):   \n",
    "    li = st.strip().split()\n",
    "    li = [right_stripper(tok) for tok in li]\n",
    "    li = [item for sublist in li for item in sublist]\n",
    "    li = [left_stripper(tok) for tok in li]\n",
    "    li = [item for sublist in li for item in sublist]\n",
    "    return li[1:-1]   #drop the outermost brackets"
   ]
  },
  {
   "cell_type": "code",
   "execution_count": 19,
   "metadata": {
    "collapsed": true
   },
   "outputs": [],
   "source": [
    "def transition_parser(tokens):\n",
    "    trans = []\n",
    "    for tok in tokens:\n",
    "        if tok == \")\" :\n",
    "            trans.append(2)\n",
    "        elif tok == \"(\":\n",
    "            pass\n",
    "        else:\n",
    "            trans.append(1)\n",
    "\n",
    "    return trans"
   ]
  },
  {
   "cell_type": "code",
   "execution_count": 20,
   "metadata": {
    "collapsed": true
   },
   "outputs": [],
   "source": [
    "test_string = '(ROOT (FRAG (NP (NNP Super)) (@FRAG (ADJP (NP (NP (JJ simple) (NN place)) (ADVP (CC but))) (JJ amazing)) (@FRAG (ADVP (RB nonetheless)) (. .)))))'"
   ]
  },
  {
   "cell_type": "code",
   "execution_count": 21,
   "metadata": {
    "collapsed": true
   },
   "outputs": [],
   "source": [
    "tokens = sentence_parser(test_string)"
   ]
  },
  {
   "cell_type": "code",
   "execution_count": 22,
   "metadata": {},
   "outputs": [
    {
     "data": {
      "text/plain": [
       "[1, 2, 2, 1, 2, 1, 2, 2, 1, 2, 2, 2, 1, 2, 2, 1, 2, 2, 1, 2, 2, 2, 2]"
      ]
     },
     "execution_count": 22,
     "metadata": {},
     "output_type": "execute_result"
    }
   ],
   "source": [
    "transition_parser(tokens)"
   ]
  },
  {
   "cell_type": "code",
   "execution_count": 23,
   "metadata": {
    "collapsed": true
   },
   "outputs": [],
   "source": [
    "class Node:  # a node in the tree\n",
    "    def __init__(self, word=None):        \n",
    "        self.word = word\n",
    "        self.parent = None  # reference to parent\n",
    "        self.left = None  # reference to left child\n",
    "        self.right = None  # reference to right child        \n",
    "        self.isLeaf = False      "
   ]
  },
  {
   "cell_type": "code",
   "execution_count": 32,
   "metadata": {
    "collapsed": true
   },
   "outputs": [],
   "source": [
    "class Tree:\n",
    "\n",
    "    def __init__(self, treeString, openChar='(', closeChar=')'):\n",
    "        #self.tokens = []\n",
    "        self.open = openChar\n",
    "        self.close = closeChar\n",
    "        tokens = sentence_parser(treeString)\n",
    "        self.root = self.parse(tokens)\n",
    "        self.binarize(self.root)\n",
    "        self.string = self.stringify(self.root)\n",
    "        self.tokens = self.recover_sentence(self.root)\n",
    "        self.transitions = self.transition_parser()\n",
    "    \n",
    "    def recover_sentence(self, node):\n",
    "        sentence_list = []       \n",
    "        if node.isLeaf:\n",
    "            sentence_list.append(node.word)\n",
    "            return sentence_list\n",
    "        else:\n",
    "            left_branch = self.recover_sentence(node.left)          \n",
    "            right_branch = self.recover_sentence(node.right)           \n",
    "            return left_branch + right_branch\n",
    "            \n",
    "    def transition_parser(self):\n",
    "        tokens = self.string.split()\n",
    "        trans = []\n",
    "        for tok in tokens:\n",
    "            if tok == \")\" :\n",
    "                trans.append(2)\n",
    "            elif tok == \"(\":\n",
    "                pass\n",
    "            else:\n",
    "                trans.append(1)\n",
    "        return trans\n",
    "    \n",
    "    \n",
    "    \n",
    "    def parse(self, tokens, parent=None):\n",
    "        assert tokens[0] == self.open, \"Malformed tree\"\n",
    "        assert tokens[-1] == self.close, \"Malformed tree\"\n",
    "        \n",
    "        split = 1  # position after open \n",
    "        countOpen = countClose = 0\n",
    "        \n",
    "        if tokens[split] == self.open:\n",
    "            countOpen += 1\n",
    "            split += 1\n",
    "        # Find where left child and right child split\n",
    "        while countOpen != countClose:\n",
    "            if tokens[split] == self.open:\n",
    "                countOpen += 1\n",
    "            if tokens[split] == self.close:\n",
    "                countClose += 1\n",
    "            split += 1\n",
    "        \n",
    "        # New node\n",
    "        node = Node()  \n",
    "        node.parent = parent\n",
    "        \n",
    "        if countOpen == 0:\n",
    "            node.word = ''.join(tokens[1:-1]).lower()  # lower case?\n",
    "            node.isLeaf = True\n",
    "            return node\n",
    "        \n",
    "        node.left = self.parse(tokens[1:split], parent=node)\n",
    "        if tokens[split] == self.open:\n",
    "            node.right = self.parse(tokens[split:-1], parent=node)\n",
    "        else:\n",
    "            node.right = None             \n",
    "        return node\n",
    "    \n",
    "    \n",
    "    def fuse(self, mother, child):\n",
    "        if mother == self.root:\n",
    "            self.root = child\n",
    "            return\n",
    "        else:\n",
    "            forebear = mother.parent\n",
    "            child.parent = forebear\n",
    "            if forebear.left == mother:\n",
    "                forebear.left = child\n",
    "            else:\n",
    "                forebear.right = child\n",
    "    \n",
    "    def stringify(self, node):    \n",
    "        if node == None:\n",
    "            return \"\"\n",
    "        elif node.isLeaf:\n",
    "            #return \"(\" + node.word + \")\"\n",
    "            return  node.word \n",
    "        else:\n",
    "            #tree_str = \"(\"            \n",
    "            #tree_str += self.stringify(node.left)            \n",
    "            #tree_str += self.stringify(node.right)\n",
    "            #tree_str += \")\"\n",
    "            return \"( \" + self.stringify(node.left) + \" \" + self.stringify(node.right) + \" )\"\n",
    "            \n",
    "        \n",
    "    def is_binary(self, node):\n",
    "        if node.isLeaf:\n",
    "            return True\n",
    "        elif ((node.right == None) or (node.left == None)):            \n",
    "            return False\n",
    "        else:\n",
    "            check1 = self.is_binary(node.left)\n",
    "            check2 = self.is_binary(node.right)\n",
    "            return (check1 and check2)\n",
    "        \n",
    "    def is_binary_tree(self):\n",
    "        return self.is_binary(self.root)\n",
    "        \n",
    "    def is_binary_node(self, node):\n",
    "        if node.isLeaf:\n",
    "            return True\n",
    "        elif ((node.right == None) or (node.left == None)):\n",
    "            return False\n",
    "        else:\n",
    "            return True\n",
    "            \n",
    "    def binarize(self, node):\n",
    "        if node.isLeaf:\n",
    "            return\n",
    "        if self.is_binary_node(node):\n",
    "            self.binarize(node.left)\n",
    "            self.binarize(node.right)            \n",
    "        else:\n",
    "            if (node.right == None):\n",
    "                child = node.left\n",
    "            else:\n",
    "                child = node.right\n",
    "            self.fuse(node, child)\n",
    "            self.binarize(child)          "
   ]
  },
  {
   "cell_type": "code",
   "execution_count": 33,
   "metadata": {
    "collapsed": true
   },
   "outputs": [],
   "source": [
    "st = '(ROOT (FRAG (NP (NNP Super)) (@FRAG (ADJP (NP (NP (JJ simple) (NN place)) (ADVP (CC but))) (JJ amazing)) (@FRAG (ADVP (RB nonetheless)) (. .)))))'"
   ]
  },
  {
   "cell_type": "code",
   "execution_count": 34,
   "metadata": {},
   "outputs": [
    {
     "data": {
      "text/plain": [
       "'(ROOT (FRAG (NP (NNP Super)) (@FRAG (ADJP (NP (NP (JJ simple) (NN place)) (ADVP (CC but))) (JJ amazing)) (@FRAG (ADVP (RB nonetheless)) (. .)))))'"
      ]
     },
     "execution_count": 34,
     "metadata": {},
     "output_type": "execute_result"
    }
   ],
   "source": [
    "st"
   ]
  },
  {
   "cell_type": "code",
   "execution_count": 35,
   "metadata": {},
   "outputs": [],
   "source": [
    "tree = Tree(st)"
   ]
  },
  {
   "cell_type": "code",
   "execution_count": 14,
   "metadata": {},
   "outputs": [],
   "source": [
    "st = tree.string"
   ]
  },
  {
   "cell_type": "code",
   "execution_count": 36,
   "metadata": {},
   "outputs": [
    {
     "data": {
      "text/plain": [
       "[1, 1, 1, 2, 1, 2, 1, 2, 1, 1, 2, 2, 2]"
      ]
     },
     "execution_count": 36,
     "metadata": {},
     "output_type": "execute_result"
    }
   ],
   "source": [
    "tree.transitions"
   ]
  },
  {
   "cell_type": "code",
   "execution_count": 37,
   "metadata": {},
   "outputs": [
    {
     "data": {
      "text/plain": [
       "'( super ( ( ( ( simple place ) but ) amazing ) ( nonetheless . ) ) )'"
      ]
     },
     "execution_count": 37,
     "metadata": {},
     "output_type": "execute_result"
    }
   ],
   "source": [
    "tree.string"
   ]
  },
  {
   "cell_type": "code",
   "execution_count": 27,
   "metadata": {},
   "outputs": [
    {
     "data": {
      "text/plain": [
       "[1, 2, 2, 1, 2, 1, 2, 2, 1, 2, 2, 2, 1, 2, 2, 1, 2, 2, 1, 2, 2, 2, 2]"
      ]
     },
     "execution_count": 27,
     "metadata": {},
     "output_type": "execute_result"
    }
   ],
   "source": [
    "st = tree.string_tokens\n",
    "transition_parser(st)"
   ]
  },
  {
   "cell_type": "code",
   "execution_count": 12,
   "metadata": {
    "collapsed": true
   },
   "outputs": [],
   "source": [
    "def Convert_2_BinaryTrees(dataSet='TreeBinarizer_Output'):\n",
    "    \"\"\"\n",
    "    Loads output from TreeBinarizer and converts to binary tree format\n",
    "    \"\"\"\n",
    "    file = '%s.txt' % dataSet\n",
    "    print (\"Loading %s trees..\" % dataSet)\n",
    "    with open(file, 'r') as fid:           \n",
    "        strings = [line for line in fid.readlines() if not line.isspace()]\n",
    "        trees = [Tree(string) for string in strings]       \n",
    "        tree_strings = [tree.string for tree in trees]\n",
    "    print (\"Saving b-trees ...\")\n",
    "    file = open(\"Binarized_Output.txt\",\"w\") \n",
    "    for item in tree_strings:\n",
    "        file.write(\"%s\\n\" % item) \n",
    "    return tree_strings"
   ]
  },
  {
   "cell_type": "code",
   "execution_count": 13,
   "metadata": {},
   "outputs": [
    {
     "name": "stdout",
     "output_type": "stream",
     "text": [
      "Loading TreeBinarizer_Output trees..\n",
      "Saving b-trees ...\n"
     ]
    }
   ],
   "source": [
    "tree_strings = Convert_2_BinaryTrees()"
   ]
  },
  {
   "cell_type": "code",
   "execution_count": 14,
   "metadata": {},
   "outputs": [
    {
     "data": {
      "text/plain": [
       "'( super ( ( ( ( simple place ) but ) amazing ) ( nonetheless . ) ) )'"
      ]
     },
     "execution_count": 14,
     "metadata": {},
     "output_type": "execute_result"
    }
   ],
   "source": [
    "tree_strings[0]"
   ]
  },
  {
   "cell_type": "code",
   "execution_count": 15,
   "metadata": {},
   "outputs": [
    {
     "data": {
      "text/plain": [
       "'s'"
      ]
     },
     "execution_count": 15,
     "metadata": {},
     "output_type": "execute_result"
    }
   ],
   "source": [
    "tree_strings[0][2]"
   ]
  },
  {
   "cell_type": "code",
   "execution_count": 23,
   "metadata": {},
   "outputs": [
    {
     "data": {
      "text/plain": [
       "['l']"
      ]
     },
     "execution_count": 23,
     "metadata": {},
     "output_type": "execute_result"
    }
   ],
   "source": [
    "[] + ['l']"
   ]
  },
  {
   "cell_type": "code",
   "execution_count": 24,
   "metadata": {},
   "outputs": [
    {
     "data": {
      "text/plain": [
       "['l', 'j', 'l']"
      ]
     },
     "execution_count": 24,
     "metadata": {},
     "output_type": "execute_result"
    }
   ],
   "source": [
    "[] + ['l','j', 'l']"
   ]
  },
  {
   "cell_type": "code",
   "execution_count": 25,
   "metadata": {},
   "outputs": [
    {
     "data": {
      "text/plain": [
       "[]"
      ]
     },
     "execution_count": 25,
     "metadata": {},
     "output_type": "execute_result"
    }
   ],
   "source": [
    "[] +  []"
   ]
  },
  {
   "cell_type": "code",
   "execution_count": 15,
   "metadata": {},
   "outputs": [
    {
     "data": {
      "text/plain": [
       "['(',\n",
       " 'super',\n",
       " '(',\n",
       " '(',\n",
       " '(',\n",
       " '(',\n",
       " 'simple',\n",
       " 'place',\n",
       " ')',\n",
       " 'but',\n",
       " ')',\n",
       " 'amazing',\n",
       " ')',\n",
       " '(',\n",
       " 'nonetheless',\n",
       " '.',\n",
       " ')',\n",
       " ')',\n",
       " ')']"
      ]
     },
     "execution_count": 15,
     "metadata": {},
     "output_type": "execute_result"
    }
   ],
   "source": [
    "st.split()"
   ]
  },
  {
   "cell_type": "code",
   "execution_count": null,
   "metadata": {
    "collapsed": true
   },
   "outputs": [],
   "source": []
  }
 ],
 "metadata": {
  "kernelspec": {
   "display_name": "Python 3",
   "language": "python",
   "name": "python3"
  },
  "language_info": {
   "codemirror_mode": {
    "name": "ipython",
    "version": 3
   },
   "file_extension": ".py",
   "mimetype": "text/x-python",
   "name": "python",
   "nbconvert_exporter": "python",
   "pygments_lexer": "ipython3",
   "version": "3.5.4"
  }
 },
 "nbformat": 4,
 "nbformat_minor": 2
}
