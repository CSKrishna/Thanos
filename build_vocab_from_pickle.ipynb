{
 "cells": [
  {
   "cell_type": "code",
   "execution_count": 1,
   "metadata": {
    "collapsed": true
   },
   "outputs": [],
   "source": [
    "from collections import Counter\n",
    "import pandas as pd\n",
    "import argparse\n",
    "import os\n",
    "import sys"
   ]
  },
  {
   "cell_type": "code",
   "execution_count": 14,
   "metadata": {},
   "outputs": [
    {
     "name": "stderr",
     "output_type": "stream",
     "text": [
      "usage: ipykernel_launcher.py [-h] [--data_dir DATA_DIR]\n",
      "ipykernel_launcher.py: error: unrecognized arguments: -f C:\\Users\\chepuri.krishna\\AppData\\Roaming\\jupyter\\runtime\\kernel-a46de4df-6868-4485-bb0d-e0138b3c1fb0.json\n"
     ]
    },
    {
     "ename": "SystemExit",
     "evalue": "2",
     "output_type": "error",
     "traceback": [
      "An exception has occurred, use %tb to see the full traceback.\n",
      "\u001b[1;31mSystemExit\u001b[0m\u001b[1;31m:\u001b[0m 2\n"
     ]
    },
    {
     "name": "stderr",
     "output_type": "stream",
     "text": [
      "C:\\Users\\chepuri.krishna\\AppData\\Local\\Continuum\\Miniconda2\\envs\\latest\\lib\\site-packages\\IPython\\core\\interactiveshell.py:2870: UserWarning: To exit: use 'exit', 'quit', or Ctrl-D.\n",
      "  warn(\"To exit: use 'exit', 'quit', or Ctrl-D.\", stacklevel=1)\n"
     ]
    }
   ],
   "source": [
    "parser = argparse.ArgumentParser()\n",
    "\n",
    "parser.add_argument('--data_dir', default='data', help=\"Directory containing the dataset\")\n",
    "\n",
    "# Hyper parameters for the vocab\n",
    "NUM_OOV_BUCKETS = 1 # number of buckets (= number of ids) for unknown words\n",
    "PAD_WORD = '<pad>'\n",
    "args = parser.parse_args()"
   ]
  },
  {
   "cell_type": "code",
   "execution_count": 5,
   "metadata": {
    "collapsed": true
   },
   "outputs": [],
   "source": [
    "def save_vocab_to_txt_file(vocab, txt_path):\n",
    "    \"\"\"Writes one token per line, 0-based line id corresponds to the id of the token.\n",
    "\n",
    "    Args:\n",
    "        vocab: (iterable object) yields token\n",
    "        txt_path: (stirng) path to vocab file\n",
    "    \"\"\"\n",
    "    with open(txt_path, \"w\") as f:\n",
    "        f.write(\"\\n\".join(token for token in vocab))\n"
   ]
  },
  {
   "cell_type": "code",
   "execution_count": 6,
   "metadata": {
    "collapsed": true
   },
   "outputs": [],
   "source": [
    "words = Counter()"
   ]
  },
  {
   "cell_type": "code",
   "execution_count": 2,
   "metadata": {
    "collapsed": true
   },
   "outputs": [],
   "source": [
    "data_train = pd.read_pickle(\"data/test.pkl\")\n",
    "docs = data_train[[\"Sent\"]].values.tolist()"
   ]
  },
  {
   "cell_type": "code",
   "execution_count": 5,
   "metadata": {},
   "outputs": [
    {
     "data": {
      "text/html": [
       "<div>\n",
       "<style>\n",
       "    .dataframe thead tr:only-child th {\n",
       "        text-align: right;\n",
       "    }\n",
       "\n",
       "    .dataframe thead th {\n",
       "        text-align: left;\n",
       "    }\n",
       "\n",
       "    .dataframe tbody tr th {\n",
       "        vertical-align: top;\n",
       "    }\n",
       "</style>\n",
       "<table border=\"1\" class=\"dataframe\">\n",
       "  <thead>\n",
       "    <tr style=\"text-align: right;\">\n",
       "      <th></th>\n",
       "      <th>Tree</th>\n",
       "      <th>Sent</th>\n",
       "      <th>rating</th>\n",
       "      <th>text</th>\n",
       "      <th>Length</th>\n",
       "    </tr>\n",
       "  </thead>\n",
       "  <tbody>\n",
       "    <tr>\n",
       "      <th>137440</th>\n",
       "      <td>[( ( ( ( great food ) and ) ( great service ) ...</td>\n",
       "      <td>[great food and great service !, we needed a g...</td>\n",
       "      <td>4</td>\n",
       "      <td>Great food and great service! We needed a good...</td>\n",
       "      <td>2</td>\n",
       "    </tr>\n",
       "    <tr>\n",
       "      <th>106977</th>\n",
       "      <td>[( fast ( service . ) ), ( they ( ( ( ( load u...</td>\n",
       "      <td>[fast service ., they load up the subs pretty ...</td>\n",
       "      <td>4</td>\n",
       "      <td>Fast service. They load up the subs pretty wel...</td>\n",
       "      <td>2</td>\n",
       "    </tr>\n",
       "    <tr>\n",
       "      <th>51325</th>\n",
       "      <td>[( ( ( ( ( the food ) ( here ( is great ) ) ) ...</td>\n",
       "      <td>[the food here is great but i recently had a s...</td>\n",
       "      <td>2</td>\n",
       "      <td>The food here is great but I recently had a sl...</td>\n",
       "      <td>2</td>\n",
       "    </tr>\n",
       "    <tr>\n",
       "      <th>127081</th>\n",
       "      <td>[( ( ( ( food ( is great ) ) but ) ( ( the pla...</td>\n",
       "      <td>[food is great but the place gets super busy a...</td>\n",
       "      <td>4</td>\n",
       "      <td>Food is great but the place gets super busy at...</td>\n",
       "      <td>2</td>\n",
       "    </tr>\n",
       "    <tr>\n",
       "      <th>35792</th>\n",
       "      <td>[( ( loved ( the fries ) ) ( , ( ( the burger ...</td>\n",
       "      <td>[loved the fries , the burger was okay ., i pr...</td>\n",
       "      <td>3</td>\n",
       "      <td>Loved the fries, the burger was Okay. I prefer...</td>\n",
       "      <td>2</td>\n",
       "    </tr>\n",
       "  </tbody>\n",
       "</table>\n",
       "</div>"
      ],
      "text/plain": [
       "                                                     Tree  \\\n",
       "137440  [( ( ( ( great food ) and ) ( great service ) ...   \n",
       "106977  [( fast ( service . ) ), ( they ( ( ( ( load u...   \n",
       "51325   [( ( ( ( ( the food ) ( here ( is great ) ) ) ...   \n",
       "127081  [( ( ( ( food ( is great ) ) but ) ( ( the pla...   \n",
       "35792   [( ( loved ( the fries ) ) ( , ( ( the burger ...   \n",
       "\n",
       "                                                     Sent  rating  \\\n",
       "137440  [great food and great service !, we needed a g...       4   \n",
       "106977  [fast service ., they load up the subs pretty ...       4   \n",
       "51325   [the food here is great but i recently had a s...       2   \n",
       "127081  [food is great but the place gets super busy a...       4   \n",
       "35792   [loved the fries , the burger was okay ., i pr...       3   \n",
       "\n",
       "                                                     text  Length  \n",
       "137440  Great food and great service! We needed a good...       2  \n",
       "106977  Fast service. They load up the subs pretty wel...       2  \n",
       "51325   The food here is great but I recently had a sl...       2  \n",
       "127081  Food is great but the place gets super busy at...       2  \n",
       "35792   Loved the fries, the burger was Okay. I prefer...       2  "
      ]
     },
     "execution_count": 5,
     "metadata": {},
     "output_type": "execute_result"
    }
   ],
   "source": [
    "data_train.head()"
   ]
  },
  {
   "cell_type": "code",
   "execution_count": 8,
   "metadata": {
    "collapsed": true
   },
   "outputs": [],
   "source": [
    "for doc in docs:\n",
    "    doc = doc[0]\n",
    "    for sentence in doc:\n",
    "        words.update(str(sentence).split(\" \"))        "
   ]
  },
  {
   "cell_type": "code",
   "execution_count": 9,
   "metadata": {
    "collapsed": true
   },
   "outputs": [],
   "source": [
    "words = [tok for tok, _ in words.items()]"
   ]
  },
  {
   "cell_type": "code",
   "execution_count": 23,
   "metadata": {},
   "outputs": [
    {
     "data": {
      "text/plain": [
       "'collectively'"
      ]
     },
     "execution_count": 23,
     "metadata": {},
     "output_type": "execute_result"
    }
   ],
   "source": [
    "words[345]"
   ]
  },
  {
   "cell_type": "code",
   "execution_count": 10,
   "metadata": {},
   "outputs": [
    {
     "name": "stdout",
     "output_type": "stream",
     "text": [
      "Saving vocabularies to file...\n"
     ]
    },
    {
     "ename": "NameError",
     "evalue": "name 'args' is not defined",
     "output_type": "error",
     "traceback": [
      "\u001b[1;31m---------------------------------------------------------------------------\u001b[0m",
      "\u001b[1;31mNameError\u001b[0m                                 Traceback (most recent call last)",
      "\u001b[1;32m<ipython-input-10-e0b7195bc270>\u001b[0m in \u001b[0;36m<module>\u001b[1;34m()\u001b[0m\n\u001b[0;32m      1\u001b[0m \u001b[1;31m# Save vocabularies to file\u001b[0m\u001b[1;33m\u001b[0m\u001b[1;33m\u001b[0m\u001b[0m\n\u001b[0;32m      2\u001b[0m \u001b[0mprint\u001b[0m\u001b[1;33m(\u001b[0m\u001b[1;34m\"Saving vocabularies to file...\"\u001b[0m\u001b[1;33m)\u001b[0m\u001b[1;33m\u001b[0m\u001b[0m\n\u001b[1;32m----> 3\u001b[1;33m \u001b[0msave_vocab_to_txt_file\u001b[0m\u001b[1;33m(\u001b[0m\u001b[0mwords\u001b[0m\u001b[1;33m,\u001b[0m \u001b[0mos\u001b[0m\u001b[1;33m.\u001b[0m\u001b[0mpath\u001b[0m\u001b[1;33m.\u001b[0m\u001b[0mjoin\u001b[0m\u001b[1;33m(\u001b[0m\u001b[0margs\u001b[0m\u001b[1;33m.\u001b[0m\u001b[0mdata_dir\u001b[0m\u001b[1;33m,\u001b[0m \u001b[1;34m'words.txt'\u001b[0m\u001b[1;33m)\u001b[0m\u001b[1;33m)\u001b[0m\u001b[1;33m\u001b[0m\u001b[0m\n\u001b[0m\u001b[0;32m      4\u001b[0m \u001b[0mprint\u001b[0m\u001b[1;33m(\u001b[0m\u001b[1;34m\"- done.\"\u001b[0m\u001b[1;33m)\u001b[0m\u001b[1;33m\u001b[0m\u001b[0m\n",
      "\u001b[1;31mNameError\u001b[0m: name 'args' is not defined"
     ]
    }
   ],
   "source": [
    "# Save vocabularies to file\n",
    "print(\"Saving vocabularies to file...\")\n",
    "save_vocab_to_txt_file(words, os.path.join(args.data_dir, 'words.txt'))\n",
    "print(\"- done.\")"
   ]
  },
  {
   "cell_type": "code",
   "execution_count": 1,
   "metadata": {},
   "outputs": [
    {
     "name": "stdout",
     "output_type": "stream",
     "text": [
      "Building word vocabulary...\n",
      "- done.\n",
      "Saving vocabularies to file...\n",
      "- done.\n",
      "Characteristics of the dataset:\n",
      "- dev_size: 7121\n",
      "- pad_word: <pad>\n",
      "- vocab_size: 49367\n",
      "- num_oov_buckets: 1\n",
      "- test_size: 7114\n",
      "- train_size: 56945\n"
     ]
    }
   ],
   "source": [
    "%run build_vocab_3.py --data_dir data"
   ]
  },
  {
   "cell_type": "code",
   "execution_count": 3,
   "metadata": {
    "collapsed": true
   },
   "outputs": [],
   "source": [
    "data_train = pd.read_pickle(\"data/train.pkl\")"
   ]
  },
  {
   "cell_type": "code",
   "execution_count": 4,
   "metadata": {},
   "outputs": [
    {
     "data": {
      "text/html": [
       "<div>\n",
       "<style>\n",
       "    .dataframe thead tr:only-child th {\n",
       "        text-align: right;\n",
       "    }\n",
       "\n",
       "    .dataframe thead th {\n",
       "        text-align: left;\n",
       "    }\n",
       "\n",
       "    .dataframe tbody tr th {\n",
       "        vertical-align: top;\n",
       "    }\n",
       "</style>\n",
       "<table border=\"1\" class=\"dataframe\">\n",
       "  <thead>\n",
       "    <tr style=\"text-align: right;\">\n",
       "      <th></th>\n",
       "      <th>Tree</th>\n",
       "      <th>Sent</th>\n",
       "      <th>rating</th>\n",
       "      <th>text</th>\n",
       "      <th>Length</th>\n",
       "    </tr>\n",
       "  </thead>\n",
       "  <tbody>\n",
       "    <tr>\n",
       "      <th>42096</th>\n",
       "      <td>[( ( ( check out ) ( ( their ( thanksgiving lu...</td>\n",
       "      <td>[check out their thanksgiving lunch special .,...</td>\n",
       "      <td>4</td>\n",
       "      <td>Check out their Thanksgiving lunch special.  F...</td>\n",
       "      <td>2</td>\n",
       "    </tr>\n",
       "    <tr>\n",
       "      <th>86624</th>\n",
       "      <td>[( kinda ( ( pricey ( for ( not ( a ( ( ( lot ...</td>\n",
       "      <td>[kinda pricey for not a lot or high quality fo...</td>\n",
       "      <td>3</td>\n",
       "      <td>Kinda pricey for not a lot or high quality foo...</td>\n",
       "      <td>2</td>\n",
       "    </tr>\n",
       "    <tr>\n",
       "      <th>119805</th>\n",
       "      <td>[( it ( ( 's ( a ( nice theater ) ) ) . ) ), (...</td>\n",
       "      <td>[it 's a nice theater ., i wish it was n't so ...</td>\n",
       "      <td>4</td>\n",
       "      <td>It's a nice theater. I wish it wasn't so expen...</td>\n",
       "      <td>2</td>\n",
       "    </tr>\n",
       "    <tr>\n",
       "      <th>122176</th>\n",
       "      <td>[( ( ( waay better ) ( than ( ( subway or ) qu...</td>\n",
       "      <td>[waay better than subway or quiznos ., that 's...</td>\n",
       "      <td>4</td>\n",
       "      <td>Waay better than Subway or Quiznos. That's all...</td>\n",
       "      <td>2</td>\n",
       "    </tr>\n",
       "    <tr>\n",
       "      <th>112495</th>\n",
       "      <td>[( ( this place ) ( ( is ( ( cheap and ) great...</td>\n",
       "      <td>[this place is cheap and great !, best pastor ...</td>\n",
       "      <td>4</td>\n",
       "      <td>This place is cheap and great!  Best pastor ta...</td>\n",
       "      <td>2</td>\n",
       "    </tr>\n",
       "  </tbody>\n",
       "</table>\n",
       "</div>"
      ],
      "text/plain": [
       "                                                     Tree  \\\n",
       "42096   [( ( ( check out ) ( ( their ( thanksgiving lu...   \n",
       "86624   [( kinda ( ( pricey ( for ( not ( a ( ( ( lot ...   \n",
       "119805  [( it ( ( 's ( a ( nice theater ) ) ) . ) ), (...   \n",
       "122176  [( ( ( waay better ) ( than ( ( subway or ) qu...   \n",
       "112495  [( ( this place ) ( ( is ( ( cheap and ) great...   \n",
       "\n",
       "                                                     Sent  rating  \\\n",
       "42096   [check out their thanksgiving lunch special .,...       4   \n",
       "86624   [kinda pricey for not a lot or high quality fo...       3   \n",
       "119805  [it 's a nice theater ., i wish it was n't so ...       4   \n",
       "122176  [waay better than subway or quiznos ., that 's...       4   \n",
       "112495  [this place is cheap and great !, best pastor ...       4   \n",
       "\n",
       "                                                     text  Length  \n",
       "42096   Check out their Thanksgiving lunch special.  F...       2  \n",
       "86624   Kinda pricey for not a lot or high quality foo...       2  \n",
       "119805  It's a nice theater. I wish it wasn't so expen...       2  \n",
       "122176  Waay better than Subway or Quiznos. That's all...       2  \n",
       "112495  This place is cheap and great!  Best pastor ta...       2  "
      ]
     },
     "execution_count": 4,
     "metadata": {},
     "output_type": "execute_result"
    }
   ],
   "source": [
    "data_train.head()"
   ]
  },
  {
   "cell_type": "code",
   "execution_count": 4,
   "metadata": {
    "collapsed": true
   },
   "outputs": [],
   "source": [
    "docs = data_train[[\"Sent\"]].values.tolist()"
   ]
  },
  {
   "cell_type": "code",
   "execution_count": 5,
   "metadata": {},
   "outputs": [
    {
     "data": {
      "text/plain": [
       "[['been back two more times - still great !',\n",
       "  'had caprese salad and burger , and a couple of flatbreads .',\n",
       "  'both times on a thursday night , NUMTOKEN , about ten people in the place one night , but the second night was packed .',\n",
       "  'great food , service .']]"
      ]
     },
     "execution_count": 5,
     "metadata": {},
     "output_type": "execute_result"
    }
   ],
   "source": [
    "docs[0]"
   ]
  },
  {
   "cell_type": "code",
   "execution_count": 6,
   "metadata": {},
   "outputs": [
    {
     "data": {
      "text/plain": [
       "[['long wait time and the technicians seem to be in a hurry to finish the job .',\n",
       "  \"they do n't do much of a foot massage in comparison with the other nail salons i have gone to .\",\n",
       "  \"and yes if you are interested in getting a design done on your nail , most technicians do n't know how to do it or are confused about the prices .\"]]"
      ]
     },
     "execution_count": 6,
     "metadata": {},
     "output_type": "execute_result"
    }
   ],
   "source": [
    "docs[1]\n",
    "    "
   ]
  },
  {
   "cell_type": "code",
   "execution_count": 7,
   "metadata": {},
   "outputs": [
    {
     "data": {
      "text/plain": [
       "[['went here for dinner with a couple girl friends and it was amazing !',\n",
       "  \"they were a little busy but we were n't in any rush .\",\n",
       "  'great pizza and drinks , very romantic cozy area']]"
      ]
     },
     "execution_count": 7,
     "metadata": {},
     "output_type": "execute_result"
    }
   ],
   "source": [
    "docs[3]"
   ]
  },
  {
   "cell_type": "code",
   "execution_count": 8,
   "metadata": {},
   "outputs": [
    {
     "data": {
      "text/plain": [
       "[[\"i just wanted to write a short update about sunup since i 've become a very regular patron .\",\n",
       "  'this place is great .',\n",
       "  \"the staff is usually pretty awesome unless they 're swamped , but i feel that that 's understandable .\",\n",
       "  'there is always a great special beer on tap that i become a fan of and then am saddened when the keg is emptied .',\n",
       "  'and .',\n",
       "  'i finally found great food here !',\n",
       "  \"it took me a while , but the pork verde , the chili fries and almost anything with the bleu cheese fondue is flippin ' great -lrb- try it with the garlic parm fries -rrb- !\",\n",
       "  'did i mention the bleu cheese fondue ?!']]"
      ]
     },
     "execution_count": 8,
     "metadata": {},
     "output_type": "execute_result"
    }
   ],
   "source": [
    "docs[45]"
   ]
  },
  {
   "cell_type": "code",
   "execution_count": 9,
   "metadata": {
    "collapsed": true
   },
   "outputs": [],
   "source": [
    "ratings = data_train[[\"rating\"]].values.tolist()"
   ]
  },
  {
   "cell_type": "code",
   "execution_count": 10,
   "metadata": {},
   "outputs": [
    {
     "data": {
      "text/plain": [
       "[4.0]"
      ]
     },
     "execution_count": 10,
     "metadata": {},
     "output_type": "execute_result"
    }
   ],
   "source": [
    "ratings[0]"
   ]
  },
  {
   "cell_type": "code",
   "execution_count": 11,
   "metadata": {},
   "outputs": [
    {
     "data": {
      "text/plain": [
       "[5.0]"
      ]
     },
     "execution_count": 11,
     "metadata": {},
     "output_type": "execute_result"
    }
   ],
   "source": [
    "ratings[1]"
   ]
  },
  {
   "cell_type": "code",
   "execution_count": 12,
   "metadata": {},
   "outputs": [
    {
     "data": {
      "text/plain": [
       "[5.0]"
      ]
     },
     "execution_count": 12,
     "metadata": {},
     "output_type": "execute_result"
    }
   ],
   "source": [
    "ratings[2]"
   ]
  },
  {
   "cell_type": "code",
   "execution_count": 13,
   "metadata": {},
   "outputs": [
    {
     "data": {
      "text/plain": [
       "[3.0]"
      ]
     },
     "execution_count": 13,
     "metadata": {},
     "output_type": "execute_result"
    }
   ],
   "source": [
    "ratings[3]"
   ]
  },
  {
   "cell_type": "code",
   "execution_count": 14,
   "metadata": {},
   "outputs": [
    {
     "data": {
      "text/plain": [
       "[5.0]"
      ]
     },
     "execution_count": 14,
     "metadata": {},
     "output_type": "execute_result"
    }
   ],
   "source": [
    "ratings[34]"
   ]
  },
  {
   "cell_type": "code",
   "execution_count": 15,
   "metadata": {},
   "outputs": [
    {
     "data": {
      "text/plain": [
       "[5.0]"
      ]
     },
     "execution_count": 15,
     "metadata": {},
     "output_type": "execute_result"
    }
   ],
   "source": [
    "max(ratings)"
   ]
  },
  {
   "cell_type": "code",
   "execution_count": 16,
   "metadata": {},
   "outputs": [
    {
     "data": {
      "text/plain": [
       "[1.0]"
      ]
     },
     "execution_count": 16,
     "metadata": {},
     "output_type": "execute_result"
    }
   ],
   "source": [
    "min(ratings)"
   ]
  },
  {
   "cell_type": "code",
   "execution_count": 17,
   "metadata": {},
   "outputs": [
    {
     "data": {
      "text/plain": [
       "[['two words - grilled fish and baklava .',\n",
       "  'i am always willing to make the long drive for these two .',\n",
       "  'located at the heart of mill ave , a dinner on the patio with good friends and amazing food .',\n",
       "  'thats what i mean when i say bliss .']]"
      ]
     },
     "execution_count": 17,
     "metadata": {},
     "output_type": "execute_result"
    }
   ],
   "source": [
    "docs[88]"
   ]
  },
  {
   "cell_type": "code",
   "execution_count": 18,
   "metadata": {},
   "outputs": [
    {
     "data": {
      "text/plain": [
       "[['i felt butterflies in my stomach as soon as i walked in and started looking through racks of clothing .',\n",
       "  'the buyer for this store has amazing taste : lots of UNK-coming designers and items straight from ny , not the la garment district .',\n",
       "  'the selection is killer !',\n",
       "  \"it 's been a while since i got excited over a selection of clothes .\",\n",
       "  'god only knows i use every spare minute of my week to find good items .']]"
      ]
     },
     "execution_count": 18,
     "metadata": {},
     "output_type": "execute_result"
    }
   ],
   "source": [
    "docs[77]"
   ]
  },
  {
   "cell_type": "code",
   "execution_count": 19,
   "metadata": {},
   "outputs": [
    {
     "data": {
      "text/plain": [
       "[['i ate lunch here NUMTOKEN days in a row because it was so delish !',\n",
       "  'the 1st day , deanna was our server .',\n",
       "  'we loved her !',\n",
       "  'she had a great knowledge of the menu , told us specials and even helped us order .',\n",
       "  'we had the goat cheese and chicken sandwich and the corn and goat cheese flatbread .',\n",
       "  \"she told us to go check out the rest of the place and when we did we ran into robert , the manager and he said right away , `` welcome to our home '' .\",\n",
       "  'how cute is that ?',\n",
       "  'so , i decided to bring some different friends there today .',\n",
       "  'the food was awesome again .',\n",
       "  'we tried a blt flatbread and a turkey apple wrap and a veggie wrap as well .',\n",
       "  'all very good !',\n",
       "  'the service however wasnt exactly poor , just wasnt deanna .',\n",
       "  'we heard no specials , no name .',\n",
       "  'well , no personality !',\n",
       "  'why didnt i just ask for deanna , you say ?',\n",
       "  'i did , her station was full , -lrb- shes on the patio and its gorgeous outside -rrb- and we were on a time crunch .',\n",
       "  'ill know better next time .',\n",
       "  'the server actually touched the lip of the pitcher of UNK to the lip of my glass .',\n",
       "  'now if she does that to everyones glass , well , you get the picture and i get a cold sore !',\n",
       "  'yuck !',\n",
       "  'needless to say , i asked for my tea to go .',\n",
       "  'all that said , ill come back here time and time again !']]"
      ]
     },
     "execution_count": 19,
     "metadata": {},
     "output_type": "execute_result"
    }
   ],
   "source": [
    "docs[234]"
   ]
  },
  {
   "cell_type": "code",
   "execution_count": 2,
   "metadata": {
    "collapsed": true
   },
   "outputs": [],
   "source": [
    "data_train = pd.read_pickle(\"data/train.pkl\")"
   ]
  },
  {
   "cell_type": "code",
   "execution_count": 3,
   "metadata": {},
   "outputs": [
    {
     "data": {
      "text/html": [
       "<div>\n",
       "<style>\n",
       "    .dataframe thead tr:only-child th {\n",
       "        text-align: right;\n",
       "    }\n",
       "\n",
       "    .dataframe thead th {\n",
       "        text-align: left;\n",
       "    }\n",
       "\n",
       "    .dataframe tbody tr th {\n",
       "        vertical-align: top;\n",
       "    }\n",
       "</style>\n",
       "<table border=\"1\" class=\"dataframe\">\n",
       "  <thead>\n",
       "    <tr style=\"text-align: right;\">\n",
       "      <th></th>\n",
       "      <th>Tree</th>\n",
       "      <th>Sent</th>\n",
       "      <th>rating</th>\n",
       "      <th>text</th>\n",
       "      <th>Length</th>\n",
       "      <th>length</th>\n",
       "    </tr>\n",
       "  </thead>\n",
       "  <tbody>\n",
       "    <tr>\n",
       "      <th>42096</th>\n",
       "      <td>[( ( ( check out ) ( ( their ( thanksgiving lu...</td>\n",
       "      <td>[check out their thanksgiving lunch special .,...</td>\n",
       "      <td>4</td>\n",
       "      <td>Check out their Thanksgiving lunch special.  F...</td>\n",
       "      <td>2</td>\n",
       "      <td>2</td>\n",
       "    </tr>\n",
       "    <tr>\n",
       "      <th>6401</th>\n",
       "      <td>[( ( ( ( good ( mongolian bbq ) ) - ) ( ( more...</td>\n",
       "      <td>[good mongolian bbq - more variety than most ....</td>\n",
       "      <td>4</td>\n",
       "      <td>Good mongolian bbq - more variety than most. T...</td>\n",
       "      <td>2</td>\n",
       "      <td>2</td>\n",
       "    </tr>\n",
       "    <tr>\n",
       "      <th>93541</th>\n",
       "      <td>[( ( above ( ( average bbq ) ( at ( a ( resona...</td>\n",
       "      <td>[above average bbq at a resonable price ., lar...</td>\n",
       "      <td>3</td>\n",
       "      <td>Above average BBQ at a resonable price.  Large...</td>\n",
       "      <td>2</td>\n",
       "      <td>2</td>\n",
       "    </tr>\n",
       "    <tr>\n",
       "      <th>111303</th>\n",
       "      <td>[( pnp ( ( ( is just ) ( about ( ( the ( coole...</td>\n",
       "      <td>[UNK is just about the coolest thing you can d...</td>\n",
       "      <td>5</td>\n",
       "      <td>PNP is just about the coolest thing you can do...</td>\n",
       "      <td>2</td>\n",
       "      <td>2</td>\n",
       "    </tr>\n",
       "    <tr>\n",
       "      <th>12829</th>\n",
       "      <td>[( ( ( ( ( ( ( ( i ( used ( to ( like ( pepe '...</td>\n",
       "      <td>[i used to like pepe 's but last time i stoppe...</td>\n",
       "      <td>2</td>\n",
       "      <td>I used to like Pepe's but last time I stopped ...</td>\n",
       "      <td>2</td>\n",
       "      <td>2</td>\n",
       "    </tr>\n",
       "    <tr>\n",
       "      <th>136267</th>\n",
       "      <td>[( ( ( my ( favorite pizza ) ) ( in town ) ) ....</td>\n",
       "      <td>[my favorite pizza in town ., its all about th...</td>\n",
       "      <td>5</td>\n",
       "      <td>My favorite pizza in town. Its all about their...</td>\n",
       "      <td>2</td>\n",
       "      <td>2</td>\n",
       "    </tr>\n",
       "    <tr>\n",
       "      <th>17083</th>\n",
       "      <td>[( ( ( such ( a ( great hole ) ) ) ( in ( the ...</td>\n",
       "      <td>[such a great hole in the wall , i always have...</td>\n",
       "      <td>4</td>\n",
       "      <td>Such a great hole in the wall, I always have g...</td>\n",
       "      <td>2</td>\n",
       "      <td>2</td>\n",
       "    </tr>\n",
       "    <tr>\n",
       "      <th>139523</th>\n",
       "      <td>[( ( ( ( nice place ) , ) ( great amenities ) ...</td>\n",
       "      <td>[nice place , great amenities ., pet friendly ...</td>\n",
       "      <td>4</td>\n",
       "      <td>Nice place, great amenities. Pet friendly (YUCK)</td>\n",
       "      <td>2</td>\n",
       "      <td>2</td>\n",
       "    </tr>\n",
       "    <tr>\n",
       "      <th>78938</th>\n",
       "      <td>[( ( ( ( good ( authentic ( mexican food ) ) )...</td>\n",
       "      <td>[good authentic mexican food in the heart of o...</td>\n",
       "      <td>3</td>\n",
       "      <td>Good authentic mexican food in the heart of ol...</td>\n",
       "      <td>2</td>\n",
       "      <td>2</td>\n",
       "    </tr>\n",
       "    <tr>\n",
       "      <th>6428</th>\n",
       "      <td>[( ( ( saw cake ) ( there ( last year ) ) ) . ...</td>\n",
       "      <td>[saw cake there last year ., nice grass , beau...</td>\n",
       "      <td>5</td>\n",
       "      <td>Saw CAKE there last year.  Nice grass, beautif...</td>\n",
       "      <td>2</td>\n",
       "      <td>2</td>\n",
       "    </tr>\n",
       "    <tr>\n",
       "      <th>909</th>\n",
       "      <td>[( food ( ( was ( ( ( ( alright , ) ( nothing ...</td>\n",
       "      <td>[food was alright , nothing special , a bit bl...</td>\n",
       "      <td>2</td>\n",
       "      <td>Food was alright, nothing special, a bit bland...</td>\n",
       "      <td>2</td>\n",
       "      <td>2</td>\n",
       "    </tr>\n",
       "    <tr>\n",
       "      <th>98523</th>\n",
       "      <td>[( everything ( here ( ( is yummy ) . ) ) ), (...</td>\n",
       "      <td>[everything here is yummy ., parking lot gets ...</td>\n",
       "      <td>5</td>\n",
       "      <td>Everything here is yummy. Parking lot gets cra...</td>\n",
       "      <td>2</td>\n",
       "      <td>2</td>\n",
       "    </tr>\n",
       "  </tbody>\n",
       "</table>\n",
       "</div>"
      ],
      "text/plain": [
       "                                                     Tree  \\\n",
       "42096   [( ( ( check out ) ( ( their ( thanksgiving lu...   \n",
       "6401    [( ( ( ( good ( mongolian bbq ) ) - ) ( ( more...   \n",
       "93541   [( ( above ( ( average bbq ) ( at ( a ( resona...   \n",
       "111303  [( pnp ( ( ( is just ) ( about ( ( the ( coole...   \n",
       "12829   [( ( ( ( ( ( ( ( i ( used ( to ( like ( pepe '...   \n",
       "136267  [( ( ( my ( favorite pizza ) ) ( in town ) ) ....   \n",
       "17083   [( ( ( such ( a ( great hole ) ) ) ( in ( the ...   \n",
       "139523  [( ( ( ( nice place ) , ) ( great amenities ) ...   \n",
       "78938   [( ( ( ( good ( authentic ( mexican food ) ) )...   \n",
       "6428    [( ( ( saw cake ) ( there ( last year ) ) ) . ...   \n",
       "909     [( food ( ( was ( ( ( ( alright , ) ( nothing ...   \n",
       "98523   [( everything ( here ( ( is yummy ) . ) ) ), (...   \n",
       "\n",
       "                                                     Sent  rating  \\\n",
       "42096   [check out their thanksgiving lunch special .,...       4   \n",
       "6401    [good mongolian bbq - more variety than most ....       4   \n",
       "93541   [above average bbq at a resonable price ., lar...       3   \n",
       "111303  [UNK is just about the coolest thing you can d...       5   \n",
       "12829   [i used to like pepe 's but last time i stoppe...       2   \n",
       "136267  [my favorite pizza in town ., its all about th...       5   \n",
       "17083   [such a great hole in the wall , i always have...       4   \n",
       "139523  [nice place , great amenities ., pet friendly ...       4   \n",
       "78938   [good authentic mexican food in the heart of o...       3   \n",
       "6428    [saw cake there last year ., nice grass , beau...       5   \n",
       "909     [food was alright , nothing special , a bit bl...       2   \n",
       "98523   [everything here is yummy ., parking lot gets ...       5   \n",
       "\n",
       "                                                     text  Length  length  \n",
       "42096   Check out their Thanksgiving lunch special.  F...       2       2  \n",
       "6401    Good mongolian bbq - more variety than most. T...       2       2  \n",
       "93541   Above average BBQ at a resonable price.  Large...       2       2  \n",
       "111303  PNP is just about the coolest thing you can do...       2       2  \n",
       "12829   I used to like Pepe's but last time I stopped ...       2       2  \n",
       "136267  My favorite pizza in town. Its all about their...       2       2  \n",
       "17083   Such a great hole in the wall, I always have g...       2       2  \n",
       "139523   Nice place, great amenities. Pet friendly (YUCK)       2       2  \n",
       "78938   Good authentic mexican food in the heart of ol...       2       2  \n",
       "6428    Saw CAKE there last year.  Nice grass, beautif...       2       2  \n",
       "909     Food was alright, nothing special, a bit bland...       2       2  \n",
       "98523   Everything here is yummy. Parking lot gets cra...       2       2  "
      ]
     },
     "execution_count": 3,
     "metadata": {},
     "output_type": "execute_result"
    }
   ],
   "source": [
    "data_train.head(12\n",
    "               )"
   ]
  },
  {
   "cell_type": "code",
   "execution_count": 5,
   "metadata": {
    "collapsed": true
   },
   "outputs": [],
   "source": [
    "def text_conv(dat):\n",
    "    return len(dat) \n",
    "\n",
    "   \n",
    "data_train['length'] = data_train['Sent'].apply(text_conv) \n"
   ]
  },
  {
   "cell_type": "code",
   "execution_count": 4,
   "metadata": {},
   "outputs": [
    {
     "data": {
      "text/plain": [
       "116465"
      ]
     },
     "execution_count": 4,
     "metadata": {},
     "output_type": "execute_result"
    }
   ],
   "source": [
    "len(data_train)"
   ]
  },
  {
   "cell_type": "code",
   "execution_count": 5,
   "metadata": {
    "collapsed": true
   },
   "outputs": [],
   "source": [
    "\n",
    "train1 = data_train.drop(data_train.loc[data_train.rating.isnull(),:].index)\n"
   ]
  },
  {
   "cell_type": "code",
   "execution_count": 9,
   "metadata": {
    "collapsed": true
   },
   "outputs": [],
   "source": [
    "train2 = train1[:111807]"
   ]
  },
  {
   "cell_type": "code",
   "execution_count": 10,
   "metadata": {},
   "outputs": [
    {
     "data": {
      "text/plain": [
       "111807"
      ]
     },
     "execution_count": 10,
     "metadata": {},
     "output_type": "execute_result"
    }
   ],
   "source": [
    "len(train2)"
   ]
  },
  {
   "cell_type": "code",
   "execution_count": 8,
   "metadata": {},
   "outputs": [
    {
     "data": {
      "text/html": [
       "<div>\n",
       "<style>\n",
       "    .dataframe thead tr:only-child th {\n",
       "        text-align: right;\n",
       "    }\n",
       "\n",
       "    .dataframe thead th {\n",
       "        text-align: left;\n",
       "    }\n",
       "\n",
       "    .dataframe tbody tr th {\n",
       "        vertical-align: top;\n",
       "    }\n",
       "</style>\n",
       "<table border=\"1\" class=\"dataframe\">\n",
       "  <thead>\n",
       "    <tr style=\"text-align: right;\">\n",
       "      <th></th>\n",
       "      <th>Tree</th>\n",
       "      <th>Sent</th>\n",
       "      <th>rating</th>\n",
       "      <th>text</th>\n",
       "      <th>Length</th>\n",
       "      <th>length</th>\n",
       "    </tr>\n",
       "  </thead>\n",
       "  <tbody>\n",
       "    <tr>\n",
       "      <th>42096</th>\n",
       "      <td>[( ( ( check out ) ( ( their ( thanksgiving lu...</td>\n",
       "      <td>[check out their thanksgiving lunch special .,...</td>\n",
       "      <td>4</td>\n",
       "      <td>Check out their Thanksgiving lunch special.  F...</td>\n",
       "      <td>2</td>\n",
       "      <td>2</td>\n",
       "    </tr>\n",
       "    <tr>\n",
       "      <th>13135</th>\n",
       "      <td>[( super ( good . ) ), ( ( great ( for ( ( bir...</td>\n",
       "      <td>[super good ., great for birthdays and big gro...</td>\n",
       "      <td>5</td>\n",
       "      <td>Super good. Great for birthdays and big groups.</td>\n",
       "      <td>2</td>\n",
       "      <td>2</td>\n",
       "    </tr>\n",
       "    <tr>\n",
       "      <th>74203</th>\n",
       "      <td>[( ( ( the ( best place ) ) ( you ( can ( take...</td>\n",
       "      <td>[the best place you can take your volkswagen o...</td>\n",
       "      <td>5</td>\n",
       "      <td>The best place you can take your Volkswagen or...</td>\n",
       "      <td>2</td>\n",
       "      <td>2</td>\n",
       "    </tr>\n",
       "    <tr>\n",
       "      <th>86624</th>\n",
       "      <td>[( kinda ( ( pricey ( for ( not ( a ( ( ( lot ...</td>\n",
       "      <td>[kinda pricey for not a lot or high quality fo...</td>\n",
       "      <td>3</td>\n",
       "      <td>Kinda pricey for not a lot or high quality foo...</td>\n",
       "      <td>2</td>\n",
       "      <td>2</td>\n",
       "    </tr>\n",
       "    <tr>\n",
       "      <th>119805</th>\n",
       "      <td>[( it ( ( 's ( a ( nice theater ) ) ) . ) ), (...</td>\n",
       "      <td>[it 's a nice theater ., i wish it was n't so ...</td>\n",
       "      <td>4</td>\n",
       "      <td>It's a nice theater. I wish it wasn't so expen...</td>\n",
       "      <td>2</td>\n",
       "      <td>2</td>\n",
       "    </tr>\n",
       "  </tbody>\n",
       "</table>\n",
       "</div>"
      ],
      "text/plain": [
       "                                                     Tree  \\\n",
       "42096   [( ( ( check out ) ( ( their ( thanksgiving lu...   \n",
       "13135   [( super ( good . ) ), ( ( great ( for ( ( bir...   \n",
       "74203   [( ( ( the ( best place ) ) ( you ( can ( take...   \n",
       "86624   [( kinda ( ( pricey ( for ( not ( a ( ( ( lot ...   \n",
       "119805  [( it ( ( 's ( a ( nice theater ) ) ) . ) ), (...   \n",
       "\n",
       "                                                     Sent  rating  \\\n",
       "42096   [check out their thanksgiving lunch special .,...       4   \n",
       "13135   [super good ., great for birthdays and big gro...       5   \n",
       "74203   [the best place you can take your volkswagen o...       5   \n",
       "86624   [kinda pricey for not a lot or high quality fo...       3   \n",
       "119805  [it 's a nice theater ., i wish it was n't so ...       4   \n",
       "\n",
       "                                                     text  Length  length  \n",
       "42096   Check out their Thanksgiving lunch special.  F...       2       2  \n",
       "13135     Super good. Great for birthdays and big groups.       2       2  \n",
       "74203   The best place you can take your Volkswagen or...       2       2  \n",
       "86624   Kinda pricey for not a lot or high quality foo...       2       2  \n",
       "119805  It's a nice theater. I wish it wasn't so expen...       2       2  "
      ]
     },
     "execution_count": 8,
     "metadata": {},
     "output_type": "execute_result"
    }
   ],
   "source": [
    "train1.head()"
   ]
  },
  {
   "cell_type": "code",
   "execution_count": 12,
   "metadata": {
    "collapsed": true
   },
   "outputs": [],
   "source": [
    "train2.to_pickle(\"data/train.pkl\") "
   ]
  },
  {
   "cell_type": "code",
   "execution_count": 16,
   "metadata": {
    "collapsed": true
   },
   "outputs": [],
   "source": [
    "data_dev = pd.read_pickle(\"data/dev.pkl\")"
   ]
  },
  {
   "cell_type": "code",
   "execution_count": 17,
   "metadata": {},
   "outputs": [
    {
     "data": {
      "text/plain": [
       "15000"
      ]
     },
     "execution_count": 17,
     "metadata": {},
     "output_type": "execute_result"
    }
   ],
   "source": [
    "len(data_dev)"
   ]
  },
  {
   "cell_type": "code",
   "execution_count": 18,
   "metadata": {
    "collapsed": true
   },
   "outputs": [],
   "source": [
    "train1 = data_dev.drop(data_dev.loc[data_dev.rating.isnull(),:].index)"
   ]
  },
  {
   "cell_type": "code",
   "execution_count": 19,
   "metadata": {},
   "outputs": [
    {
     "data": {
      "text/plain": [
       "15000"
      ]
     },
     "execution_count": 19,
     "metadata": {},
     "output_type": "execute_result"
    }
   ],
   "source": [
    "len(train1)"
   ]
  },
  {
   "cell_type": "code",
   "execution_count": null,
   "metadata": {
    "collapsed": true
   },
   "outputs": [],
   "source": []
  }
 ],
 "metadata": {
  "kernelspec": {
   "display_name": "Python 3",
   "language": "python",
   "name": "python3"
  },
  "language_info": {
   "codemirror_mode": {
    "name": "ipython",
    "version": 3
   },
   "file_extension": ".py",
   "mimetype": "text/x-python",
   "name": "python",
   "nbconvert_exporter": "python",
   "pygments_lexer": "ipython3",
   "version": "3.5.4"
  }
 },
 "nbformat": 4,
 "nbformat_minor": 2
}
